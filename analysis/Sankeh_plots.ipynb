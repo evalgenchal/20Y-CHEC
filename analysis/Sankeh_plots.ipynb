{
 "cells": [
  {
   "cell_type": "code",
   "execution_count": null,
   "metadata": {},
   "outputs": [],
   "source": [
    "import pandas as pd\n",
    "import numpy as np\n",
    "\n",
    "import plotly.graph_objects as go\n",
    "import plotly.express as pex"
   ]
  },
  {
   "cell_type": "markdown",
   "metadata": {},
   "source": [
    "# Task 2 Criterion"
   ]
  },
  {
   "cell_type": "code",
   "execution_count": null,
   "metadata": {},
   "outputs": [],
   "source": [
    "task2criterion = pd.read_excel(\"Data/task2criterion.xlsx\")"
   ]
  },
  {
   "cell_type": "code",
   "execution_count": null,
   "metadata": {},
   "outputs": [],
   "source": [
    "task2criterion.head()"
   ]
  },
  {
   "cell_type": "code",
   "execution_count": null,
   "metadata": {},
   "outputs": [],
   "source": [
    "all_nodes = task2criterion[\"Task\"].tolist() + task2criterion[\"Verbatim Criterion\"].tolist()\n",
    "source_indices = [all_nodes.index(task) for task in task2criterion[\"Task\"].tolist()]\n",
    "target_indices = [all_nodes.index(criterion) for criterion in task2criterion[\"Verbatim Criterion\"].tolist()]"
   ]
  },
  {
   "cell_type": "code",
   "execution_count": null,
   "metadata": {},
   "outputs": [],
   "source": [
    "fig = go.Figure(data=[go.Sankey(\n",
    "    # Define nodes\n",
    "    node = dict(\n",
    "      label =  all_nodes,\n",
    "#       color =  \"red\",\n",
    "      pad = 1000,\n",
    "      thickness = 15,\n",
    "      line = dict(color = \"black\", width = 0.5),\n",
    "    ),\n",
    "\n",
    "    # Add links\n",
    "    link = dict(\n",
    "      source =  source_indices,\n",
    "      target =  target_indices,\n",
    "      value =  task2criterion.Count,\n",
    "))])"
   ]
  },
  {
   "cell_type": "code",
   "execution_count": null,
   "metadata": {},
   "outputs": [],
   "source": [
    "fig.update_layout(height=1000,\n",
    "                  font=dict(size = 10, color = 'black'), margin=dict(pad=40))\n",
    "fig.show()\n",
    "fig.write_image(\"./Figures/updated_system_task_verbatim_criterion.png\")"
   ]
  },
  {
   "cell_type": "markdown",
   "metadata": {},
   "source": [
    "# Task 2 Standardised Criterion"
   ]
  },
  {
   "cell_type": "code",
   "execution_count": null,
   "metadata": {},
   "outputs": [],
   "source": [
    "task2criterion_Std = pd.read_excel(\"Data/task2criterion_standardized.xlsx\")"
   ]
  },
  {
   "cell_type": "code",
   "execution_count": null,
   "metadata": {},
   "outputs": [],
   "source": [
    "task2criterion_Std.head()"
   ]
  },
  {
   "cell_type": "code",
   "execution_count": null,
   "metadata": {},
   "outputs": [],
   "source": [
    "all_nodes = task2criterion_Std[\"Task\"].tolist() + task2criterion_Std[\"Verbatim Criterion\"].tolist()\n",
    "source_indices = [all_nodes.index(task) for task in task2criterion_Std[\"Task\"].tolist()]\n",
    "target_indices = [all_nodes.index(criterion) for criterion in task2criterion_Std[\"Verbatim Criterion\"].tolist()]\n",
    "\n",
    "fig = go.Figure(data=[go.Sankey(\n",
    "    # Define nodes\n",
    "    node = dict(\n",
    "      label =  all_nodes,\n",
    "#       color =  \"red\",\n",
    "      pad = 800,\n",
    "      thickness = 15,\n",
    "      line = dict(color = \"black\", width = 0.5),\n",
    "    ),\n",
    "\n",
    "    # Add links\n",
    "    link = dict(\n",
    "      source =  source_indices,\n",
    "      target =  target_indices,\n",
    "      value =  task2criterion.Count,\n",
    "))])\n",
    "\n",
    "fig.update_layout(height=1000,\n",
    "                  font=dict(size = 10, color = 'black'), margin=dict(pad=40))\n",
    "fig.show()\n",
    "fig.write_image(\"./Figures/task2criterion_standardised.png\")"
   ]
  },
  {
   "cell_type": "markdown",
   "metadata": {},
   "source": [
    "# Verbatim Criterion to Standardised Criterion"
   ]
  },
  {
   "cell_type": "code",
   "execution_count": null,
   "metadata": {},
   "outputs": [],
   "source": [
    "verbatim2standard = pd.read_excel(\"Data/verbatim_to_standardized.xlsx\")\n",
    "\n",
    "verbatim2standard.head()"
   ]
  },
  {
   "cell_type": "code",
   "execution_count": null,
   "metadata": {},
   "outputs": [],
   "source": [
    "all_nodes  = verbatim2standard[\"Verbatim\"].tolist()  + verbatim2standard[\"Standardised\"].tolist()\n",
    "# all_nodes2 = verbatim2standard[\"Standardised\"].tolist()\n",
    "source_indices = [all_nodes.index(task) for task in verbatim2standard[\"Verbatim\"].tolist()]\n",
    "target_indices = [all_nodes.index(criterion) for criterion in verbatim2standard[\"Standardised\"].tolist()]"
   ]
  },
  {
   "cell_type": "code",
   "execution_count": null,
   "metadata": {},
   "outputs": [],
   "source": [
    "len(target_indices)"
   ]
  },
  {
   "cell_type": "code",
   "execution_count": null,
   "metadata": {},
   "outputs": [],
   "source": [
    "fig = go.Figure(data=[go.Sankey(\n",
    "    # Define nodes\n",
    "    node = dict(\n",
    "      label =  all_nodes,\n",
    "#       color =  \"red\",\n",
    "      pad = 15,\n",
    "      thickness = 15,\n",
    "      line = dict(color = \"black\", width = 0.5),\n",
    "    ),\n",
    "\n",
    "    # Add links\n",
    "    link = dict(\n",
    "      source =  source_indices,\n",
    "      target =  target_indices,\n",
    "      value =  verbatim2standard.Count,\n",
    "))])\n",
    "\n",
    "fig.update_layout(height=2000,\n",
    "                  font=dict(size = 10, color = 'black'), margin=dict(pad=40))\n",
    "fig.show()\n",
    "fig.write_image(\"./Figures/verbatim2standardised.png\")"
   ]
  },
  {
   "cell_type": "code",
   "execution_count": null,
   "metadata": {},
   "outputs": [],
   "source": []
  }
 ],
 "metadata": {
  "kernelspec": {
   "display_name": "Python 3",
   "language": "python",
   "name": "python3"
  },
  "language_info": {
   "codemirror_mode": {
    "name": "ipython",
    "version": 3
   },
   "file_extension": ".py",
   "mimetype": "text/x-python",
   "name": "python",
   "nbconvert_exporter": "python",
   "pygments_lexer": "ipython3",
   "version": "3.7.4"
  }
 },
 "nbformat": 4,
 "nbformat_minor": 2
}